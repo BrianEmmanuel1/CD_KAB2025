{
 "cells": [
  {
   "cell_type": "code",
   "execution_count": 1,
   "id": "184e88cf-16b0-4e92-aff1-87ef23be4911",
   "metadata": {},
   "outputs": [],
   "source": [
    "import decision_tree as dt"
   ]
  },
  {
   "cell_type": "code",
   "execution_count": 2,
   "id": "da9316fb",
   "metadata": {},
   "outputs": [
    {
     "ename": "AttributeError",
     "evalue": "module 'decision_tree' has no attribute 'split_cifar_data'",
     "output_type": "error",
     "traceback": [
      "\u001b[1;31m---------------------------------------------------------------------------\u001b[0m",
      "\u001b[1;31mAttributeError\u001b[0m                            Traceback (most recent call last)",
      "Cell \u001b[1;32mIn[2], line 1\u001b[0m\n\u001b[1;32m----> 1\u001b[0m x_train, y_train, x_test, y_test \u001b[38;5;241m=\u001b[39m \u001b[43mdt\u001b[49m\u001b[38;5;241;43m.\u001b[39;49m\u001b[43msplit_cifar_data\u001b[49m()\n",
      "\u001b[1;31mAttributeError\u001b[0m: module 'decision_tree' has no attribute 'split_cifar_data'"
     ]
    }
   ],
   "source": [
    "x_train, y_train, x_test, y_test = dt.split_cifar_data()"
   ]
  },
  {
   "cell_type": "code",
   "execution_count": null,
   "id": "4c47eeca",
   "metadata": {},
   "outputs": [],
   "source": [
    "model = dt.classification_tree(x_train=x_train, y_train=y_train)\n",
    "y_pred = dt.predict(model, x_test)"
   ]
  },
  {
   "cell_type": "code",
   "execution_count": null,
   "id": "029425db",
   "metadata": {},
   "outputs": [],
   "source": [
    "ac = dt.accuracy_class(y_test, y_pred)\n",
    "print(f\"Accuracy: {ac}\")"
   ]
  }
 ],
 "metadata": {
  "kernelspec": {
   "display_name": "Python 3 (ipykernel)",
   "language": "python",
   "name": "python3"
  },
  "language_info": {
   "codemirror_mode": {
    "name": "ipython",
    "version": 3
   },
   "file_extension": ".py",
   "mimetype": "text/x-python",
   "name": "python",
   "nbconvert_exporter": "python",
   "pygments_lexer": "ipython3",
   "version": "3.12.8"
  }
 },
 "nbformat": 4,
 "nbformat_minor": 5
}
