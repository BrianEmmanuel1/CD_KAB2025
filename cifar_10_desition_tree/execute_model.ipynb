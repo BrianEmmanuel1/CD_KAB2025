{
 "cells": [
  {
   "cell_type": "code",
   "execution_count": 1,
   "id": "184e88cf-16b0-4e92-aff1-87ef23be4911",
   "metadata": {},
   "outputs": [],
   "source": [
    "import decision_tree as dt"
   ]
  },
  {
   "cell_type": "code",
   "execution_count": null,
   "id": "da9316fb",
   "metadata": {},
   "outputs": [],
   "source": [
    "x_train, y_train, x_test, y_test = dt.split_cifar_data()"
   ]
  },
  {
   "cell_type": "code",
   "execution_count": 3,
   "id": "4c47eeca",
   "metadata": {},
   "outputs": [],
   "source": [
    "model = dt.regression_tree(x_train, y_train)"
   ]
  },
  {
   "cell_type": "code",
   "execution_count": null,
   "id": "029425db",
   "metadata": {},
   "outputs": [],
   "source": [
    "y_pred = dt.predict(model, x_test)\n",
    "\n",
    "mse, r2 = dt.get_metrics(y_test, y_pred)\n",
    "\n",
    "print(f\"mse = {mse:.4f} \\n r2 = {r2:.4f}\")"
   ]
  }
 ],
 "metadata": {
  "kernelspec": {
   "display_name": "Python 3",
   "language": "python",
   "name": "python3"
  },
  "language_info": {
   "codemirror_mode": {
    "name": "ipython",
    "version": 3
   },
   "file_extension": ".py",
   "mimetype": "text/x-python",
   "name": "python",
   "nbconvert_exporter": "python",
   "pygments_lexer": "ipython3",
   "version": "3.12.5"
  }
 },
 "nbformat": 4,
 "nbformat_minor": 5
}
