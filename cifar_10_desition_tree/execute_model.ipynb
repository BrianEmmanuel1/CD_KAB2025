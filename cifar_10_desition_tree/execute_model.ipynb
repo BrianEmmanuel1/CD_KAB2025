{
 "cells": [
  {
   "cell_type": "code",
   "execution_count": 1,
   "id": "184e88cf-16b0-4e92-aff1-87ef23be4911",
   "metadata": {},
   "outputs": [],
   "source": [
    "import decision_tree as dt"
   ]
  },
  {
   "cell_type": "code",
   "execution_count": 2,
   "id": "da9316fb",
   "metadata": {},
   "outputs": [],
   "source": [
    "x_train, y_train, x_test, y_test = dt.split_cifar_data()"
   ]
  },
  {
   "cell_type": "code",
   "execution_count": 3,
   "id": "4c47eeca",
   "metadata": {},
   "outputs": [],
   "source": [
    "model = dt.regression_tree(x_train, y_train)"
   ]
  },
  {
   "cell_type": "code",
   "execution_count": 4,
   "id": "029425db",
   "metadata": {},
   "outputs": [
    {
     "name": "stdout",
     "output_type": "stream",
     "text": [
      "max depth: 27, total leaves: 291\n",
      "mse = 7.6902 \n",
      " r2 = 0.0679\n"
     ]
    }
   ],
   "source": [
    "y_pred = dt.predict(model, x_test)\n",
    "\n",
    "depth, leaves = dt.get_model_metrics(model)\n",
    "print(f\"max depth: {depth}, total leaves: {leaves}\")\n",
    "\n",
    "mse, r2 = dt.get_test_metrics(y_test, y_pred)\n",
    "print(f\"mse = {mse:.4f} \\n r2 = {r2:.4f}\")"
   ]
  }
 ],
 "metadata": {
  "kernelspec": {
   "display_name": "Python 3",
   "language": "python",
   "name": "python3"
  },
  "language_info": {
   "codemirror_mode": {
    "name": "ipython",
    "version": 3
   },
   "file_extension": ".py",
   "mimetype": "text/x-python",
   "name": "python",
   "nbconvert_exporter": "python",
   "pygments_lexer": "ipython3",
   "version": "3.12.5"
  }
 },
 "nbformat": 4,
 "nbformat_minor": 5
}
