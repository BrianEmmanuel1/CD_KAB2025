{
 "cells": [
  {
   "cell_type": "code",
   "execution_count": 2,
   "id": "184e88cf-16b0-4e92-aff1-87ef23be4911",
   "metadata": {},
   "outputs": [],
   "source": [
    "import torchvision\n",
    "import numpy as np"
   ]
  },
  {
   "cell_type": "code",
   "execution_count": 3,
   "id": "2c0de295-f9ae-447c-8990-b942328f8698",
   "metadata": {},
   "outputs": [
    {
     "name": "stderr",
     "output_type": "stream",
     "text": [
      "100%|██████████████████████████████████████████████████████████████████████████████████████████████████████████████████████████████████████████| 170M/170M [00:10<00:00, 15.6MB/s]\n"
     ]
    }
   ],
   "source": [
    "cifar10_train = torchvision.datasets.CIFAR10(root='./data', train=True, download=True)\n",
    "cifar10_test = torchvision.datasets.CIFAR10(root='./data', train=False, download=True)"
   ]
  },
  {
   "cell_type": "code",
   "execution_count": 4,
   "id": "93238a16-fbd1-4968-a955-e5fd85394e29",
   "metadata": {},
   "outputs": [],
   "source": [
    "X_train = np.array(cifar10_train.data).reshape(len(cifar10_train), -1)  # (50000, 3072)\n",
    "y_train = np.array(cifar10_train.targets) "
   ]
  },
  {
   "cell_type": "code",
   "execution_count": 5,
   "id": "8de0aff8-cc00-4247-8a58-612018385585",
   "metadata": {},
   "outputs": [],
   "source": [
    "X_test = np.array(cifar10_test.data).reshape(len(cifar10_test), -1)  # (10000, 3072)\n",
    "y_test = np.array(cifar10_test.targets)"
   ]
  },
  {
   "cell_type": "code",
   "execution_count": 6,
   "id": "dc025fce-cb18-4d8d-9e7e-150910370ad3",
   "metadata": {},
   "outputs": [
    {
     "name": "stdout",
     "output_type": "stream",
     "text": [
      "Train shape: (50000, 3072), Test shape: (10000, 3072)\n"
     ]
    }
   ],
   "source": [
    "print(f\"Train shape: {X_train.shape}, Test shape: {X_test.shape}\")"
   ]
  },
  {
   "cell_type": "code",
   "execution_count": null,
   "id": "0eadcb01-fd4e-4387-9267-9e1499fab483",
   "metadata": {},
   "outputs": [],
   "source": []
  }
 ],
 "metadata": {
  "kernelspec": {
   "display_name": "Python 3 (ipykernel)",
   "language": "python",
   "name": "python3"
  },
  "language_info": {
   "codemirror_mode": {
    "name": "ipython",
    "version": 3
   },
   "file_extension": ".py",
   "mimetype": "text/x-python",
   "name": "python",
   "nbconvert_exporter": "python",
   "pygments_lexer": "ipython3",
   "version": "3.12.8"
  }
 },
 "nbformat": 4,
 "nbformat_minor": 5
}
