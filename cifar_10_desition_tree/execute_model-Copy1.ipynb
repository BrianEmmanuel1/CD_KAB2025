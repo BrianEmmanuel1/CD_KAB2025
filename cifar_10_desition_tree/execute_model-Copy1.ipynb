{
 "cells": [
  {
   "cell_type": "code",
   "execution_count": 1,
   "id": "184e88cf-16b0-4e92-aff1-87ef23be4911",
   "metadata": {},
   "outputs": [],
   "source": [
    "import decision_tree as dt\n",
    "from dataset_preprocessing import patadas_de_ahogado"
   ]
  },
  {
   "cell_type": "code",
   "execution_count": 2,
   "id": "da9316fb",
   "metadata": {},
   "outputs": [
    {
     "name": "stdout",
     "output_type": "stream",
     "text": [
      "🚀 Cargando datos...\n",
      "📊 Tamaño inicial del conjunto de entrenamiento: (50000, 32, 32, 3), (50000,)\n",
      "🖼️ Generando 50000 imágenes aumentadas...\n",
      "📏 Dimensión después de aplanar: (50000, 3072)\n",
      "📊 Tamaño después de la augmentación: (100000, 3072), (100000,)\n",
      "⚖️ Aplicando SMOTE para balanceo de clases...\n",
      "🔄 Tamaño después de SMOTE: (100000, 3072), (100000,)\n",
      "🌲 Entrenando Árbol de Decisión para encontrar ejemplos difíciles...\n",
      "⚠️ Eliminando 2999 muestras difíciles de clasificar...\n",
      "✅ Tamaño final del conjunto de entrenamiento: (97001, 3072), (97001,)\n"
     ]
    }
   ],
   "source": [
    "x_train, y_train, x_test, y_test = patadas_de_ahogado()"
   ]
  },
  {
   "cell_type": "code",
   "execution_count": 3,
   "id": "4c47eeca",
   "metadata": {},
   "outputs": [],
   "source": [
    "x_train = x_train.reshape(len(x_train), -1)  # Convierte a [n_samples, n_features]\n",
    "x_test = x_test.reshape(len(x_test), -1)  # Convierte a [n_samples, n_features]\n",
    "model = dt.classification_tree(x_train=x_train, y_train=y_train)\n",
    "y_pred = dt.predict(model, x_test)"
   ]
  },
  {
   "cell_type": "code",
   "execution_count": 4,
   "id": "029425db",
   "metadata": {},
   "outputs": [
    {
     "name": "stdout",
     "output_type": "stream",
     "text": [
      "Accuracy: 0.2999\n"
     ]
    }
   ],
   "source": [
    "ac = dt.accuracy_class(y_test, y_pred)\n",
    "print(f\"Accuracy: {ac}\")"
   ]
  }
 ],
 "metadata": {
  "kernelspec": {
   "display_name": "Python 3 (ipykernel)",
   "language": "python",
   "name": "python3"
  },
  "language_info": {
   "codemirror_mode": {
    "name": "ipython",
    "version": 3
   },
   "file_extension": ".py",
   "mimetype": "text/x-python",
   "name": "python",
   "nbconvert_exporter": "python",
   "pygments_lexer": "ipython3",
   "version": "3.12.8"
  }
 },
 "nbformat": 4,
 "nbformat_minor": 5
}
