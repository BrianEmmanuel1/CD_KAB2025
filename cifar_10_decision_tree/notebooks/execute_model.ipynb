{
 "cells": [
  {
   "cell_type": "code",
   "execution_count": 2,
   "id": "da9316fb",
   "metadata": {},
   "outputs": [],
   "source": [
    "x_train, y_train, x_test, y_test = split_cifar_data()"
   ]
  },
  {
   "cell_type": "code",
   "execution_count": 3,
   "id": "4c47eeca",
   "metadata": {},
   "outputs": [],
   "source": [
    "model = dt.classification_tree(x_train=x_train, y_train=y_train)\n",
    "y_pred = dt.predict(model, x_test)"
   ]
  },
  {
   "cell_type": "code",
   "execution_count": 4,
   "id": "029425db",
   "metadata": {},
   "outputs": [
    {
     "name": "stdout",
     "output_type": "stream",
     "text": [
      "Accuracy: 0.2995\n"
     ]
    }
   ],
   "source": [
    "ac = dt.accuracy_class(y_test, y_pred)\n",
    "print(f\"Accuracy: {ac}\")"
   ]
  }
 ],
 "metadata": {
  "kernelspec": {
   "display_name": "Python 3 (ipykernel)",
   "language": "python",
   "name": "python3"
  },
  "language_info": {
   "codemirror_mode": {
    "name": "ipython",
    "version": 3
   },
   "file_extension": ".py",
   "mimetype": "text/x-python",
   "name": "python",
   "nbconvert_exporter": "python",
   "pygments_lexer": "ipython3",
   "version": "3.12.8"
  }
 },
 "nbformat": 4,
 "nbformat_minor": 5
}
