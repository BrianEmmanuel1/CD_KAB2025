{
 "cells": [
  {
   "cell_type": "markdown",
   "metadata": {},
   "source": [
    "GridSearchCV es una técnica de validación cruzada incluida en el paquete de scikit learn. Lo que hace es ejecutarse a través de los diferentes parámetros que se introducen en la cuadrícula de parámetros y extraer los mejores valores y combinaciones de parámetros."
   ]
  },
  {
   "cell_type": "markdown",
   "metadata": {},
   "source": [
    "Redujimos el max_depth en base al original más amplio"
   ]
  },
  {
   "cell_type": "code",
   "execution_count": null,
   "metadata": {},
   "outputs": [],
   "source": []
  },
  {
   "cell_type": "code",
   "execution_count": 1,
   "metadata": {},
   "outputs": [],
   "source": [
    "params = {\n",
    "    'max_depth': [10, 20, 30],  \n",
    "    'min_samples_split': [2, 5, 10],  \n",
    "    'min_samples_leaf': [1, 2, 5],\n",
    "    'criterion': ['gini', 'entropy'] \n",
    "}\n"
   ]
  },
  {
   "cell_type": "code",
   "execution_count": 2,
   "metadata": {},
   "outputs": [],
   "source": [
    "import decision_tree as dt"
   ]
  },
  {
   "cell_type": "code",
   "execution_count": 3,
   "metadata": {},
   "outputs": [],
   "source": [
    "x_train, y_train, x_test, y_test = dt.split_cifar_data()"
   ]
  },
  {
   "cell_type": "code",
   "execution_count": 4,
   "metadata": {},
   "outputs": [],
   "source": [
    "from sklearn.model_selection import GridSearchCV\n",
    "from sklearn.tree import DecisionTreeClassifier"
   ]
  },
  {
   "cell_type": "code",
   "execution_count": 5,
   "metadata": {},
   "outputs": [],
   "source": [
    "clf = GridSearchCV(DecisionTreeClassifier(), params, cv=5, scoring='accuracy',verbose=3)"
   ]
  },
  {
   "cell_type": "code",
   "execution_count": 6,
   "metadata": {},
   "outputs": [
    {
     "name": "stdout",
     "output_type": "stream",
     "text": [
      "Fitting 5 folds for each of 54 candidates, totalling 270 fits\n",
      "[CV 1/5] END criterion=gini, max_depth=10, min_samples_leaf=1, min_samples_split=2;, score=0.299 total time= 2.9min\n",
      "[CV 2/5] END criterion=gini, max_depth=10, min_samples_leaf=1, min_samples_split=2;, score=0.293 total time= 2.7min\n",
      "[CV 3/5] END criterion=gini, max_depth=10, min_samples_leaf=1, min_samples_split=2;, score=0.293 total time= 2.2min\n",
      "[CV 4/5] END criterion=gini, max_depth=10, min_samples_leaf=1, min_samples_split=2;, score=0.293 total time= 2.0min\n",
      "[CV 5/5] END criterion=gini, max_depth=10, min_samples_leaf=1, min_samples_split=2;, score=0.294 total time= 1.9min\n",
      "[CV 1/5] END criterion=gini, max_depth=10, min_samples_leaf=1, min_samples_split=5;, score=0.299 total time= 1.9min\n",
      "[CV 2/5] END criterion=gini, max_depth=10, min_samples_leaf=1, min_samples_split=5;, score=0.294 total time= 1.9min\n",
      "[CV 3/5] END criterion=gini, max_depth=10, min_samples_leaf=1, min_samples_split=5;, score=0.294 total time= 1.9min\n",
      "[CV 4/5] END criterion=gini, max_depth=10, min_samples_leaf=1, min_samples_split=5;, score=0.293 total time= 1.9min\n",
      "[CV 5/5] END criterion=gini, max_depth=10, min_samples_leaf=1, min_samples_split=5;, score=0.295 total time= 1.8min\n",
      "[CV 1/5] END criterion=gini, max_depth=10, min_samples_leaf=1, min_samples_split=10;, score=0.298 total time= 1.8min\n",
      "[CV 2/5] END criterion=gini, max_depth=10, min_samples_leaf=1, min_samples_split=10;, score=0.294 total time= 1.9min\n",
      "[CV 3/5] END criterion=gini, max_depth=10, min_samples_leaf=1, min_samples_split=10;, score=0.294 total time= 1.9min\n",
      "[CV 4/5] END criterion=gini, max_depth=10, min_samples_leaf=1, min_samples_split=10;, score=0.293 total time= 1.8min\n",
      "[CV 5/5] END criterion=gini, max_depth=10, min_samples_leaf=1, min_samples_split=10;, score=0.295 total time= 1.9min\n",
      "[CV 1/5] END criterion=gini, max_depth=10, min_samples_leaf=2, min_samples_split=2;, score=0.299 total time= 1.9min\n",
      "[CV 2/5] END criterion=gini, max_depth=10, min_samples_leaf=2, min_samples_split=2;, score=0.292 total time= 1.9min\n",
      "[CV 3/5] END criterion=gini, max_depth=10, min_samples_leaf=2, min_samples_split=2;, score=0.293 total time= 2.1min\n",
      "[CV 4/5] END criterion=gini, max_depth=10, min_samples_leaf=2, min_samples_split=2;, score=0.293 total time= 1.9min\n",
      "[CV 5/5] END criterion=gini, max_depth=10, min_samples_leaf=2, min_samples_split=2;, score=0.294 total time= 1.9min\n",
      "[CV 1/5] END criterion=gini, max_depth=10, min_samples_leaf=2, min_samples_split=5;, score=0.299 total time= 1.9min\n",
      "[CV 2/5] END criterion=gini, max_depth=10, min_samples_leaf=2, min_samples_split=5;, score=0.292 total time= 1.9min\n",
      "[CV 3/5] END criterion=gini, max_depth=10, min_samples_leaf=2, min_samples_split=5;, score=0.293 total time= 1.9min\n",
      "[CV 4/5] END criterion=gini, max_depth=10, min_samples_leaf=2, min_samples_split=5;, score=0.293 total time= 1.8min\n",
      "[CV 5/5] END criterion=gini, max_depth=10, min_samples_leaf=2, min_samples_split=5;, score=0.294 total time= 1.9min\n",
      "[CV 1/5] END criterion=gini, max_depth=10, min_samples_leaf=2, min_samples_split=10;, score=0.298 total time= 1.9min\n",
      "[CV 2/5] END criterion=gini, max_depth=10, min_samples_leaf=2, min_samples_split=10;, score=0.293 total time= 1.9min\n",
      "[CV 3/5] END criterion=gini, max_depth=10, min_samples_leaf=2, min_samples_split=10;, score=0.294 total time= 1.9min\n",
      "[CV 4/5] END criterion=gini, max_depth=10, min_samples_leaf=2, min_samples_split=10;, score=0.293 total time= 1.9min\n",
      "[CV 5/5] END criterion=gini, max_depth=10, min_samples_leaf=2, min_samples_split=10;, score=0.295 total time= 1.9min\n",
      "[CV 1/5] END criterion=gini, max_depth=10, min_samples_leaf=5, min_samples_split=2;, score=0.299 total time= 1.8min\n",
      "[CV 2/5] END criterion=gini, max_depth=10, min_samples_leaf=5, min_samples_split=2;, score=0.294 total time= 1.9min\n",
      "[CV 3/5] END criterion=gini, max_depth=10, min_samples_leaf=5, min_samples_split=2;, score=0.296 total time= 1.9min\n",
      "[CV 4/5] END criterion=gini, max_depth=10, min_samples_leaf=5, min_samples_split=2;, score=0.292 total time= 1.8min\n",
      "[CV 5/5] END criterion=gini, max_depth=10, min_samples_leaf=5, min_samples_split=2;, score=0.296 total time= 1.9min\n",
      "[CV 1/5] END criterion=gini, max_depth=10, min_samples_leaf=5, min_samples_split=5;, score=0.298 total time= 1.9min\n",
      "[CV 2/5] END criterion=gini, max_depth=10, min_samples_leaf=5, min_samples_split=5;, score=0.294 total time= 1.9min\n",
      "[CV 3/5] END criterion=gini, max_depth=10, min_samples_leaf=5, min_samples_split=5;, score=0.295 total time= 1.9min\n",
      "[CV 4/5] END criterion=gini, max_depth=10, min_samples_leaf=5, min_samples_split=5;, score=0.292 total time= 1.9min\n",
      "[CV 5/5] END criterion=gini, max_depth=10, min_samples_leaf=5, min_samples_split=5;, score=0.295 total time= 1.8min\n",
      "[CV 1/5] END criterion=gini, max_depth=10, min_samples_leaf=5, min_samples_split=10;, score=0.298 total time= 1.8min\n",
      "[CV 2/5] END criterion=gini, max_depth=10, min_samples_leaf=5, min_samples_split=10;, score=0.294 total time= 1.9min\n",
      "[CV 3/5] END criterion=gini, max_depth=10, min_samples_leaf=5, min_samples_split=10;, score=0.295 total time= 1.9min\n",
      "[CV 4/5] END criterion=gini, max_depth=10, min_samples_leaf=5, min_samples_split=10;, score=0.292 total time= 1.8min\n",
      "[CV 5/5] END criterion=gini, max_depth=10, min_samples_leaf=5, min_samples_split=10;, score=0.295 total time= 1.8min\n",
      "[CV 1/5] END criterion=gini, max_depth=20, min_samples_leaf=1, min_samples_split=2;, score=0.260 total time= 3.4min\n",
      "[CV 2/5] END criterion=gini, max_depth=20, min_samples_leaf=1, min_samples_split=2;, score=0.256 total time= 3.4min\n",
      "[CV 3/5] END criterion=gini, max_depth=20, min_samples_leaf=1, min_samples_split=2;, score=0.266 total time= 3.4min\n",
      "[CV 4/5] END criterion=gini, max_depth=20, min_samples_leaf=1, min_samples_split=2;, score=0.267 total time= 3.4min\n",
      "[CV 5/5] END criterion=gini, max_depth=20, min_samples_leaf=1, min_samples_split=2;, score=0.272 total time= 3.4min\n",
      "[CV 1/5] END criterion=gini, max_depth=20, min_samples_leaf=1, min_samples_split=5;, score=0.264 total time= 3.3min\n",
      "[CV 2/5] END criterion=gini, max_depth=20, min_samples_leaf=1, min_samples_split=5;, score=0.262 total time= 3.3min\n",
      "[CV 3/5] END criterion=gini, max_depth=20, min_samples_leaf=1, min_samples_split=5;, score=0.266 total time= 3.4min\n",
      "[CV 4/5] END criterion=gini, max_depth=20, min_samples_leaf=1, min_samples_split=5;, score=0.266 total time= 3.3min\n",
      "[CV 5/5] END criterion=gini, max_depth=20, min_samples_leaf=1, min_samples_split=5;, score=0.275 total time= 3.4min\n",
      "[CV 1/5] END criterion=gini, max_depth=20, min_samples_leaf=1, min_samples_split=10;, score=0.266 total time= 3.5min\n",
      "[CV 2/5] END criterion=gini, max_depth=20, min_samples_leaf=1, min_samples_split=10;, score=0.263 total time= 3.3min\n",
      "[CV 3/5] END criterion=gini, max_depth=20, min_samples_leaf=1, min_samples_split=10;, score=0.268 total time= 3.3min\n",
      "[CV 4/5] END criterion=gini, max_depth=20, min_samples_leaf=1, min_samples_split=10;, score=0.266 total time= 3.2min\n",
      "[CV 5/5] END criterion=gini, max_depth=20, min_samples_leaf=1, min_samples_split=10;, score=0.276 total time= 3.3min\n",
      "[CV 1/5] END criterion=gini, max_depth=20, min_samples_leaf=2, min_samples_split=2;, score=0.262 total time= 3.3min\n",
      "[CV 2/5] END criterion=gini, max_depth=20, min_samples_leaf=2, min_samples_split=2;, score=0.264 total time= 3.3min\n",
      "[CV 3/5] END criterion=gini, max_depth=20, min_samples_leaf=2, min_samples_split=2;, score=0.269 total time= 3.3min\n",
      "[CV 4/5] END criterion=gini, max_depth=20, min_samples_leaf=2, min_samples_split=2;, score=0.264 total time= 3.3min\n",
      "[CV 5/5] END criterion=gini, max_depth=20, min_samples_leaf=2, min_samples_split=2;, score=0.276 total time= 3.3min\n",
      "[CV 1/5] END criterion=gini, max_depth=20, min_samples_leaf=2, min_samples_split=5;, score=0.266 total time= 3.3min\n",
      "[CV 2/5] END criterion=gini, max_depth=20, min_samples_leaf=2, min_samples_split=5;, score=0.261 total time= 3.3min\n",
      "[CV 3/5] END criterion=gini, max_depth=20, min_samples_leaf=2, min_samples_split=5;, score=0.265 total time= 3.9min\n",
      "[CV 4/5] END criterion=gini, max_depth=20, min_samples_leaf=2, min_samples_split=5;, score=0.263 total time= 3.5min\n",
      "[CV 5/5] END criterion=gini, max_depth=20, min_samples_leaf=2, min_samples_split=5;, score=0.273 total time= 2.9min\n",
      "[CV 1/5] END criterion=gini, max_depth=20, min_samples_leaf=2, min_samples_split=10;, score=0.266 total time= 2.9min\n",
      "[CV 2/5] END criterion=gini, max_depth=20, min_samples_leaf=2, min_samples_split=10;, score=0.261 total time= 2.9min\n",
      "[CV 3/5] END criterion=gini, max_depth=20, min_samples_leaf=2, min_samples_split=10;, score=0.271 total time= 2.9min\n",
      "[CV 4/5] END criterion=gini, max_depth=20, min_samples_leaf=2, min_samples_split=10;, score=0.269 total time= 2.9min\n",
      "[CV 5/5] END criterion=gini, max_depth=20, min_samples_leaf=2, min_samples_split=10;, score=0.279 total time= 3.0min\n",
      "[CV 1/5] END criterion=gini, max_depth=20, min_samples_leaf=5, min_samples_split=2;, score=0.268 total time= 2.8min\n",
      "[CV 2/5] END criterion=gini, max_depth=20, min_samples_leaf=5, min_samples_split=2;, score=0.270 total time= 2.8min\n",
      "[CV 3/5] END criterion=gini, max_depth=20, min_samples_leaf=5, min_samples_split=2;, score=0.276 total time= 2.8min\n",
      "[CV 4/5] END criterion=gini, max_depth=20, min_samples_leaf=5, min_samples_split=2;, score=0.269 total time= 2.8min\n",
      "[CV 5/5] END criterion=gini, max_depth=20, min_samples_leaf=5, min_samples_split=2;, score=0.278 total time= 2.8min\n",
      "[CV 1/5] END criterion=gini, max_depth=20, min_samples_leaf=5, min_samples_split=5;, score=0.267 total time= 3.8min\n",
      "[CV 2/5] END criterion=gini, max_depth=20, min_samples_leaf=5, min_samples_split=5;, score=0.270 total time= 2.7min\n",
      "[CV 3/5] END criterion=gini, max_depth=20, min_samples_leaf=5, min_samples_split=5;, score=0.277 total time= 2.7min\n",
      "[CV 4/5] END criterion=gini, max_depth=20, min_samples_leaf=5, min_samples_split=5;, score=0.271 total time= 3.9min\n",
      "[CV 5/5] END criterion=gini, max_depth=20, min_samples_leaf=5, min_samples_split=5;, score=0.278 total time= 2.6min\n",
      "[CV 1/5] END criterion=gini, max_depth=20, min_samples_leaf=5, min_samples_split=10;, score=0.266 total time= 2.6min\n",
      "[CV 2/5] END criterion=gini, max_depth=20, min_samples_leaf=5, min_samples_split=10;, score=0.271 total time= 2.9min\n",
      "[CV 3/5] END criterion=gini, max_depth=20, min_samples_leaf=5, min_samples_split=10;, score=0.278 total time= 3.0min\n",
      "[CV 4/5] END criterion=gini, max_depth=20, min_samples_leaf=5, min_samples_split=10;, score=0.267 total time= 3.0min\n",
      "[CV 5/5] END criterion=gini, max_depth=20, min_samples_leaf=5, min_samples_split=10;, score=0.278 total time= 3.0min\n",
      "[CV 1/5] END criterion=gini, max_depth=30, min_samples_leaf=1, min_samples_split=2;, score=0.255 total time= 3.5min\n",
      "[CV 2/5] END criterion=gini, max_depth=30, min_samples_leaf=1, min_samples_split=2;, score=0.257 total time= 3.5min\n",
      "[CV 3/5] END criterion=gini, max_depth=30, min_samples_leaf=1, min_samples_split=2;, score=0.261 total time= 3.5min\n",
      "[CV 4/5] END criterion=gini, max_depth=30, min_samples_leaf=1, min_samples_split=2;, score=0.263 total time= 3.5min\n",
      "[CV 5/5] END criterion=gini, max_depth=30, min_samples_leaf=1, min_samples_split=2;, score=0.268 total time= 3.5min\n",
      "[CV 1/5] END criterion=gini, max_depth=30, min_samples_leaf=1, min_samples_split=5;, score=0.253 total time= 3.4min\n",
      "[CV 2/5] END criterion=gini, max_depth=30, min_samples_leaf=1, min_samples_split=5;, score=0.257 total time= 3.4min\n",
      "[CV 3/5] END criterion=gini, max_depth=30, min_samples_leaf=1, min_samples_split=5;, score=0.259 total time= 3.5min\n",
      "[CV 4/5] END criterion=gini, max_depth=30, min_samples_leaf=1, min_samples_split=5;, score=0.262 total time= 3.4min\n",
      "[CV 5/5] END criterion=gini, max_depth=30, min_samples_leaf=1, min_samples_split=5;, score=0.271 total time= 3.4min\n",
      "[CV 1/5] END criterion=gini, max_depth=30, min_samples_leaf=1, min_samples_split=10;, score=0.261 total time= 3.4min\n",
      "[CV 2/5] END criterion=gini, max_depth=30, min_samples_leaf=1, min_samples_split=10;, score=0.254 total time= 3.3min\n",
      "[CV 3/5] END criterion=gini, max_depth=30, min_samples_leaf=1, min_samples_split=10;, score=0.264 total time= 3.4min\n",
      "[CV 4/5] END criterion=gini, max_depth=30, min_samples_leaf=1, min_samples_split=10;, score=0.262 total time= 3.4min\n",
      "[CV 5/5] END criterion=gini, max_depth=30, min_samples_leaf=1, min_samples_split=10;, score=0.268 total time= 3.3min\n",
      "[CV 1/5] END criterion=gini, max_depth=30, min_samples_leaf=2, min_samples_split=2;, score=0.260 total time= 3.3min\n",
      "[CV 2/5] END criterion=gini, max_depth=30, min_samples_leaf=2, min_samples_split=2;, score=0.264 total time= 3.4min\n",
      "[CV 3/5] END criterion=gini, max_depth=30, min_samples_leaf=2, min_samples_split=2;, score=0.263 total time= 3.4min\n",
      "[CV 4/5] END criterion=gini, max_depth=30, min_samples_leaf=2, min_samples_split=2;, score=0.261 total time= 3.4min\n",
      "[CV 5/5] END criterion=gini, max_depth=30, min_samples_leaf=2, min_samples_split=2;, score=0.268 total time= 3.6min\n",
      "[CV 1/5] END criterion=gini, max_depth=30, min_samples_leaf=2, min_samples_split=5;, score=0.255 total time= 3.6min\n",
      "[CV 2/5] END criterion=gini, max_depth=30, min_samples_leaf=2, min_samples_split=5;, score=0.258 total time= 4.2min\n",
      "[CV 3/5] END criterion=gini, max_depth=30, min_samples_leaf=2, min_samples_split=5;, score=0.264 total time= 3.4min\n",
      "[CV 4/5] END criterion=gini, max_depth=30, min_samples_leaf=2, min_samples_split=5;, score=0.257 total time= 3.3min\n",
      "[CV 5/5] END criterion=gini, max_depth=30, min_samples_leaf=2, min_samples_split=5;, score=0.272 total time= 3.3min\n",
      "[CV 1/5] END criterion=gini, max_depth=30, min_samples_leaf=2, min_samples_split=10;, score=0.264 total time= 3.3min\n",
      "[CV 2/5] END criterion=gini, max_depth=30, min_samples_leaf=2, min_samples_split=10;, score=0.259 total time= 3.2min\n",
      "[CV 3/5] END criterion=gini, max_depth=30, min_samples_leaf=2, min_samples_split=10;, score=0.265 total time= 3.3min\n",
      "[CV 4/5] END criterion=gini, max_depth=30, min_samples_leaf=2, min_samples_split=10;, score=0.261 total time= 3.3min\n",
      "[CV 5/5] END criterion=gini, max_depth=30, min_samples_leaf=2, min_samples_split=10;, score=0.272 total time= 3.3min\n",
      "[CV 1/5] END criterion=gini, max_depth=30, min_samples_leaf=5, min_samples_split=2;, score=0.265 total time= 3.0min\n",
      "[CV 2/5] END criterion=gini, max_depth=30, min_samples_leaf=5, min_samples_split=2;, score=0.270 total time= 3.1min\n",
      "[CV 3/5] END criterion=gini, max_depth=30, min_samples_leaf=5, min_samples_split=2;, score=0.272 total time= 3.1min\n",
      "[CV 4/5] END criterion=gini, max_depth=30, min_samples_leaf=5, min_samples_split=2;, score=0.266 total time= 3.0min\n",
      "[CV 5/5] END criterion=gini, max_depth=30, min_samples_leaf=5, min_samples_split=2;, score=0.279 total time= 3.1min\n",
      "[CV 1/5] END criterion=gini, max_depth=30, min_samples_leaf=5, min_samples_split=5;, score=0.265 total time= 3.0min\n",
      "[CV 2/5] END criterion=gini, max_depth=30, min_samples_leaf=5, min_samples_split=5;, score=0.272 total time= 3.0min\n",
      "[CV 3/5] END criterion=gini, max_depth=30, min_samples_leaf=5, min_samples_split=5;, score=0.272 total time= 2.9min\n",
      "[CV 4/5] END criterion=gini, max_depth=30, min_samples_leaf=5, min_samples_split=5;, score=0.265 total time= 2.9min\n",
      "[CV 5/5] END criterion=gini, max_depth=30, min_samples_leaf=5, min_samples_split=5;, score=0.275 total time= 2.9min\n",
      "[CV 1/5] END criterion=gini, max_depth=30, min_samples_leaf=5, min_samples_split=10;, score=0.264 total time= 2.3min\n",
      "[CV 2/5] END criterion=gini, max_depth=30, min_samples_leaf=5, min_samples_split=10;, score=0.270 total time= 2.2min\n",
      "[CV 3/5] END criterion=gini, max_depth=30, min_samples_leaf=5, min_samples_split=10;, score=0.274 total time= 2.3min\n",
      "[CV 4/5] END criterion=gini, max_depth=30, min_samples_leaf=5, min_samples_split=10;, score=0.266 total time= 2.3min\n",
      "[CV 5/5] END criterion=gini, max_depth=30, min_samples_leaf=5, min_samples_split=10;, score=0.278 total time= 2.9min\n",
      "[CV 1/5] END criterion=entropy, max_depth=10, min_samples_leaf=1, min_samples_split=2;, score=0.283 total time= 3.1min\n",
      "[CV 2/5] END criterion=entropy, max_depth=10, min_samples_leaf=1, min_samples_split=2;, score=0.290 total time=16.2min\n",
      "[CV 3/5] END criterion=entropy, max_depth=10, min_samples_leaf=1, min_samples_split=2;, score=0.287 total time= 2.9min\n",
      "[CV 4/5] END criterion=entropy, max_depth=10, min_samples_leaf=1, min_samples_split=2;, score=0.285 total time= 2.7min\n",
      "[CV 5/5] END criterion=entropy, max_depth=10, min_samples_leaf=1, min_samples_split=2;, score=0.293 total time= 2.8min\n",
      "[CV 1/5] END criterion=entropy, max_depth=10, min_samples_leaf=1, min_samples_split=5;, score=0.282 total time= 2.9min\n",
      "[CV 2/5] END criterion=entropy, max_depth=10, min_samples_leaf=1, min_samples_split=5;, score=0.289 total time= 2.8min\n"
     ]
    },
    {
     "name": "stderr",
     "output_type": "stream",
     "text": [
      "\n",
      "KeyboardInterrupt\n",
      "\n"
     ]
    }
   ],
   "source": [
    "clf.fit(x_train, y_train)\n",
    "print(\"Mejores hiperparámetros:\", clf.best_params_)"
   ]
  }
 ],
 "metadata": {
  "kernelspec": {
   "display_name": "Python 3 (ipykernel)",
   "language": "python",
   "name": "python3"
  },
  "language_info": {
   "codemirror_mode": {
    "name": "ipython",
    "version": 3
   },
   "file_extension": ".py",
   "mimetype": "text/x-python",
   "name": "python",
   "nbconvert_exporter": "python",
   "pygments_lexer": "ipython3",
   "version": "3.12.8"
  }
 },
 "nbformat": 4,
 "nbformat_minor": 4
}
