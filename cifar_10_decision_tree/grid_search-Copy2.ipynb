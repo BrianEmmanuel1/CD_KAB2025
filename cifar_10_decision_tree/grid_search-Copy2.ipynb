{
 "cells": [
  {
   "cell_type": "markdown",
   "metadata": {},
   "source": [
    "GridSearchCV es una técnica de validación cruzada incluida en el paquete de scikit learn. Lo que hace es ejecutarse a través de los diferentes parámetros que se introducen en la cuadrícula de parámetros y extraer los mejores valores y combinaciones de parámetros."
   ]
  },
  {
   "cell_type": "code",
   "execution_count": 1,
   "metadata": {},
   "outputs": [],
   "source": [
    "params = {\n",
    "    'max_depth': [10],  \n",
    "    'min_samples_split': [10],  \n",
    "    'min_samples_leaf': [1, 5],\n",
    "    'criterion': ['gini'] \n",
    "}"
   ]
  },
  {
   "cell_type": "code",
   "execution_count": 2,
   "metadata": {},
   "outputs": [],
   "source": [
    "import decision_tree as dt"
   ]
  },
  {
   "cell_type": "code",
   "execution_count": 3,
   "metadata": {},
   "outputs": [],
   "source": [
    "x_train, y_train, x_test, y_test = dt.split_cifar_data()"
   ]
  },
  {
   "cell_type": "code",
   "execution_count": 4,
   "metadata": {},
   "outputs": [],
   "source": [
    "from sklearn.model_selection import GridSearchCV\n",
    "from sklearn.tree import DecisionTreeClassifier"
   ]
  },
  {
   "cell_type": "code",
   "execution_count": 5,
   "metadata": {},
   "outputs": [],
   "source": [
    "clf = GridSearchCV(DecisionTreeClassifier(), params, cv=5, scoring='accuracy',verbose=3)"
   ]
  },
  {
   "cell_type": "code",
   "execution_count": 6,
   "metadata": {},
   "outputs": [
    {
     "name": "stdout",
     "output_type": "stream",
     "text": [
      "Fitting 5 folds for each of 2 candidates, totalling 10 fits\n",
      "[CV 1/5] END criterion=gini, max_depth=10, min_samples_leaf=1, min_samples_split=10;, score=0.298 total time= 1.7min\n",
      "[CV 2/5] END criterion=gini, max_depth=10, min_samples_leaf=1, min_samples_split=10;, score=0.293 total time= 1.8min\n",
      "[CV 3/5] END criterion=gini, max_depth=10, min_samples_leaf=1, min_samples_split=10;, score=0.294 total time= 1.7min\n",
      "[CV 4/5] END criterion=gini, max_depth=10, min_samples_leaf=1, min_samples_split=10;, score=0.292 total time= 1.7min\n",
      "[CV 5/5] END criterion=gini, max_depth=10, min_samples_leaf=1, min_samples_split=10;, score=0.295 total time= 1.8min\n",
      "[CV 1/5] END criterion=gini, max_depth=10, min_samples_leaf=5, min_samples_split=10;, score=0.299 total time= 1.8min\n",
      "[CV 2/5] END criterion=gini, max_depth=10, min_samples_leaf=5, min_samples_split=10;, score=0.294 total time= 1.7min\n",
      "[CV 3/5] END criterion=gini, max_depth=10, min_samples_leaf=5, min_samples_split=10;, score=0.295 total time= 1.7min\n",
      "[CV 4/5] END criterion=gini, max_depth=10, min_samples_leaf=5, min_samples_split=10;, score=0.292 total time= 1.8min\n",
      "[CV 5/5] END criterion=gini, max_depth=10, min_samples_leaf=5, min_samples_split=10;, score=0.295 total time= 1.8min\n",
      "Mejores hiperparámetros: {'criterion': 'gini', 'max_depth': 10, 'min_samples_leaf': 5, 'min_samples_split': 10}\n"
     ]
    }
   ],
   "source": [
    "clf.fit(x_train, y_train)\n",
    "print(\"Mejores hiperparámetros:\", clf.best_params_)"
   ]
  }
 ],
 "metadata": {
  "kernelspec": {
   "display_name": "Python 3 (ipykernel)",
   "language": "python",
   "name": "python3"
  },
  "language_info": {
   "codemirror_mode": {
    "name": "ipython",
    "version": 3
   },
   "file_extension": ".py",
   "mimetype": "text/x-python",
   "name": "python",
   "nbconvert_exporter": "python",
   "pygments_lexer": "ipython3",
   "version": "3.12.8"
  }
 },
 "nbformat": 4,
 "nbformat_minor": 4
}
